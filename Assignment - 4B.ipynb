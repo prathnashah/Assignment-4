{
 "cells": [
  {
   "cell_type": "markdown",
   "id": "c7bcd1f9",
   "metadata": {},
   "source": [
    "#### Q1. Create a vehicle class with an init method having instance variables as name_of_vehicle, max_speed and average_of_vehicle."
   ]
  },
  {
   "cell_type": "code",
   "execution_count": 23,
   "id": "61d7e906",
   "metadata": {},
   "outputs": [],
   "source": [
    "class vehicle:\n",
    "    def __init__(self, name_of_vehicle, max_speed, average_of_vehicle):\n",
    "        self.name_of_vehicle = name_of_vehicle\n",
    "        self.max_speed = max_speed\n",
    "        self.average_of_vehicle = average_of_vehicle\n",
    "        \n",
    "    def seating_capacity(self, capacity):\n",
    "        self.capacity = capacity\n",
    "    \n",
    "    def vehicle_details(self):\n",
    "        return name_of_vehicle, max_speed, average_of_vehicle"
   ]
  },
  {
   "cell_type": "code",
   "execution_count": 24,
   "id": "8bf50f79",
   "metadata": {},
   "outputs": [],
   "source": [
    "obj_vehicle = vehicle(\"Car\", 200, 80)"
   ]
  },
  {
   "cell_type": "code",
   "execution_count": 25,
   "id": "9ca63f5b",
   "metadata": {},
   "outputs": [
    {
     "data": {
      "text/plain": [
       "'Car'"
      ]
     },
     "execution_count": 25,
     "metadata": {},
     "output_type": "execute_result"
    }
   ],
   "source": [
    "obj_vehicle.name_of_vehicle"
   ]
  },
  {
   "cell_type": "code",
   "execution_count": 26,
   "id": "4e5e89ce",
   "metadata": {},
   "outputs": [
    {
     "data": {
      "text/plain": [
       "200"
      ]
     },
     "execution_count": 26,
     "metadata": {},
     "output_type": "execute_result"
    }
   ],
   "source": [
    "obj_vehicle.max_speed"
   ]
  },
  {
   "cell_type": "code",
   "execution_count": 27,
   "id": "b5931245",
   "metadata": {},
   "outputs": [
    {
     "data": {
      "text/plain": [
       "80"
      ]
     },
     "execution_count": 27,
     "metadata": {},
     "output_type": "execute_result"
    }
   ],
   "source": [
    "obj_vehicle.average_of_vehicle"
   ]
  },
  {
   "cell_type": "markdown",
   "id": "2926395d",
   "metadata": {},
   "source": [
    "#### Q2. Create a child class car from the vehicle class created in Que 1, which will inherit the vehicle class. Create a method named seating_capacity which takes capacity as an argument and returns the name of the vehicle and its seating capacity."
   ]
  },
  {
   "cell_type": "code",
   "execution_count": 43,
   "id": "61af207b",
   "metadata": {},
   "outputs": [],
   "source": [
    "class car(vehicle):\n",
    "    pass"
   ]
  },
  {
   "cell_type": "code",
   "execution_count": 47,
   "id": "82d02176",
   "metadata": {},
   "outputs": [],
   "source": [
    "obj_car = car(\"Car\",200,80)"
   ]
  },
  {
   "cell_type": "code",
   "execution_count": 48,
   "id": "d6f31bf5",
   "metadata": {},
   "outputs": [],
   "source": [
    "obj_car.seating_capacity = 5"
   ]
  },
  {
   "cell_type": "code",
   "execution_count": 49,
   "id": "c0b370ff",
   "metadata": {},
   "outputs": [
    {
     "data": {
      "text/plain": [
       "'Car'"
      ]
     },
     "execution_count": 49,
     "metadata": {},
     "output_type": "execute_result"
    }
   ],
   "source": [
    "obj_car.name_of_vehicle"
   ]
  },
  {
   "cell_type": "code",
   "execution_count": 50,
   "id": "80f14c76",
   "metadata": {},
   "outputs": [
    {
     "data": {
      "text/plain": [
       "5"
      ]
     },
     "execution_count": 50,
     "metadata": {},
     "output_type": "execute_result"
    }
   ],
   "source": [
    "obj_car.seating_capacity"
   ]
  },
  {
   "cell_type": "markdown",
   "id": "059fbdbd",
   "metadata": {},
   "source": [
    "#### Q3. What is multiple inheritance? Write a python code to demonstrate multiple inheritance."
   ]
  },
  {
   "cell_type": "code",
   "execution_count": 51,
   "id": "3037736c",
   "metadata": {},
   "outputs": [],
   "source": [
    "class classA:\n",
    "    \n",
    "    def test_classA(self):\n",
    "        print(\"This is class A\")\n",
    "\n",
    "class classB():\n",
    "    \n",
    "    def test_classB(self):\n",
    "        print(\"This is class B\")\n",
    "        \n",
    "class classC(classA, classB):\n",
    "    pass"
   ]
  },
  {
   "cell_type": "code",
   "execution_count": 52,
   "id": "c667d039",
   "metadata": {},
   "outputs": [],
   "source": [
    "obj_classC = classC()"
   ]
  },
  {
   "cell_type": "code",
   "execution_count": 53,
   "id": "a93ce71c",
   "metadata": {},
   "outputs": [
    {
     "name": "stdout",
     "output_type": "stream",
     "text": [
      "This is class A\n"
     ]
    }
   ],
   "source": [
    "obj_classC.test_classA()"
   ]
  },
  {
   "cell_type": "code",
   "execution_count": 54,
   "id": "f191375e",
   "metadata": {},
   "outputs": [
    {
     "name": "stdout",
     "output_type": "stream",
     "text": [
      "This is class B\n"
     ]
    }
   ],
   "source": [
    "obj_classC.test_classB()"
   ]
  },
  {
   "cell_type": "markdown",
   "id": "92c153c3",
   "metadata": {},
   "source": [
    "#### Q4. What are getter and setter in python? Create a class and create a getter and a setter method in this class."
   ]
  },
  {
   "cell_type": "markdown",
   "id": "21ffe257",
   "metadata": {},
   "source": [
    "Getters: These are the methods used in Object-Oriented Programming (OOPS) which helps to access the private attributes from a class.  \n",
    "Setters: These are the methods used in OOPS feature which helps to set the value to private attributes in a class."
   ]
  },
  {
   "cell_type": "code",
   "execution_count": 64,
   "id": "afa24a5f",
   "metadata": {},
   "outputs": [],
   "source": [
    "class bank:\n",
    "    \n",
    "    def __init__(self, balance, name):\n",
    "        self.__balance = balance\n",
    "        self.name = name\n",
    "        \n",
    "    @property\n",
    "    def balance_access(self):\n",
    "        return self.__balance\n",
    "    \n",
    "    @balance_access.setter\n",
    "    def balance_set(self, money):\n",
    "        if money <= 1000:\n",
    "            pass\n",
    "        else:\n",
    "            self.__balance = money"
   ]
  },
  {
   "cell_type": "code",
   "execution_count": 65,
   "id": "e3851e15",
   "metadata": {},
   "outputs": [],
   "source": [
    "obj_bank = bank(6000, \"Prathna\")"
   ]
  },
  {
   "cell_type": "code",
   "execution_count": 66,
   "id": "f1695246",
   "metadata": {},
   "outputs": [
    {
     "data": {
      "text/plain": [
       "6000"
      ]
     },
     "execution_count": 66,
     "metadata": {},
     "output_type": "execute_result"
    }
   ],
   "source": [
    "obj_bank.balance_access"
   ]
  },
  {
   "cell_type": "code",
   "execution_count": 67,
   "id": "39ae0cc3",
   "metadata": {},
   "outputs": [],
   "source": [
    "obj_bank.balance_set=500"
   ]
  },
  {
   "cell_type": "code",
   "execution_count": 68,
   "id": "57482e6b",
   "metadata": {},
   "outputs": [],
   "source": [
    "obj_bank.balance_set = 5000"
   ]
  },
  {
   "cell_type": "code",
   "execution_count": 69,
   "id": "433f7b8a",
   "metadata": {},
   "outputs": [
    {
     "data": {
      "text/plain": [
       "5000"
      ]
     },
     "execution_count": 69,
     "metadata": {},
     "output_type": "execute_result"
    }
   ],
   "source": [
    "obj_bank.balance_access "
   ]
  },
  {
   "cell_type": "markdown",
   "id": "ce52f034",
   "metadata": {},
   "source": [
    "#### Q5.What is method overriding in python? Write a python code to demonstrate method overriding."
   ]
  },
  {
   "cell_type": "markdown",
   "id": "39477e97",
   "metadata": {},
   "source": [
    "When a method in a subclass has the same name, same parameters or signature and same return type(or sub-type) as a method in its super-class, then the method in the subclass is said to override the method in the super-class."
   ]
  },
  {
   "cell_type": "code",
   "execution_count": 70,
   "id": "a5a29050",
   "metadata": {},
   "outputs": [],
   "source": [
    "class Parent1:\n",
    "    def display(self):\n",
    "        print(\"This is class Parent 1\")\n",
    "        \n",
    "class Parent2:\n",
    "    def show(self):\n",
    "        print(\"This is class Parent 2\")\n",
    "        \n",
    "class Child(Parent1, Parent2):\n",
    "    def display(self):\n",
    "        print(\"This is class Child\")"
   ]
  },
  {
   "cell_type": "code",
   "execution_count": 71,
   "id": "187b4a49",
   "metadata": {},
   "outputs": [],
   "source": [
    "obj_child = Child()"
   ]
  },
  {
   "cell_type": "code",
   "execution_count": 73,
   "id": "81d4075f",
   "metadata": {},
   "outputs": [
    {
     "name": "stdout",
     "output_type": "stream",
     "text": [
      "This is class Child\n"
     ]
    }
   ],
   "source": [
    "obj_child.display()"
   ]
  },
  {
   "cell_type": "code",
   "execution_count": 74,
   "id": "3861b743",
   "metadata": {},
   "outputs": [
    {
     "name": "stdout",
     "output_type": "stream",
     "text": [
      "This is class Parent 2\n"
     ]
    }
   ],
   "source": [
    "obj_child.show()"
   ]
  },
  {
   "cell_type": "code",
   "execution_count": null,
   "id": "decb78ff",
   "metadata": {},
   "outputs": [],
   "source": []
  }
 ],
 "metadata": {
  "kernelspec": {
   "display_name": "Python 3 (ipykernel)",
   "language": "python",
   "name": "python3"
  },
  "language_info": {
   "codemirror_mode": {
    "name": "ipython",
    "version": 3
   },
   "file_extension": ".py",
   "mimetype": "text/x-python",
   "name": "python",
   "nbconvert_exporter": "python",
   "pygments_lexer": "ipython3",
   "version": "3.11.5"
  }
 },
 "nbformat": 4,
 "nbformat_minor": 5
}
