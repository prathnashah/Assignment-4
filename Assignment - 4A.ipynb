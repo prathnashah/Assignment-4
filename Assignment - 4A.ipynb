{
 "cells": [
  {
   "cell_type": "markdown",
   "id": "f47b331f",
   "metadata": {},
   "source": [
    "#### Q1. Explain Class and Object with respect to Object-Oriented Programming. Give a suitable example."
   ]
  },
  {
   "cell_type": "markdown",
   "id": "30671698",
   "metadata": {},
   "source": [
    "Classes are user-defined data types that act as the blueprint for individual objects, attributes and methods. Objects are instances of a class created with specifically defined data. "
   ]
  },
  {
   "cell_type": "code",
   "execution_count": 1,
   "id": "9a61dbeb",
   "metadata": {},
   "outputs": [],
   "source": [
    "class yellow_pages:\n",
    "    \n",
    "    def __init__(self, name, email, number):\n",
    "        self.name = name\n",
    "        self.email= email\n",
    "        self.number = number\n",
    "        \n",
    "    def contact_details(self):\n",
    "        return self.name, self.email, self.number"
   ]
  },
  {
   "cell_type": "code",
   "execution_count": 3,
   "id": "be4c9860",
   "metadata": {},
   "outputs": [],
   "source": [
    "yp = yellow_pages(\"Prathna\",\"prathna@abc.com\",9852063147)"
   ]
  },
  {
   "cell_type": "code",
   "execution_count": 4,
   "id": "a3d979c3",
   "metadata": {},
   "outputs": [
    {
     "data": {
      "text/plain": [
       "('Prathna', 'prathna@abc.com', 9852063147)"
      ]
     },
     "execution_count": 4,
     "metadata": {},
     "output_type": "execute_result"
    }
   ],
   "source": [
    "yp.contact_details()"
   ]
  },
  {
   "cell_type": "markdown",
   "id": "44d20b63",
   "metadata": {},
   "source": [
    "#### Q2. Name the four pillars of OOPs."
   ]
  },
  {
   "cell_type": "markdown",
   "id": "26525241",
   "metadata": {},
   "source": [
    "The 4 pillars of OOPs concepts in python are Inheritance, Polymorphism, Encapsulation, and Abstraction."
   ]
  },
  {
   "cell_type": "markdown",
   "id": "2ef08865",
   "metadata": {},
   "source": [
    "#### Q3. Explain why the __init__() function is used. Give a suitable example."
   ]
  },
  {
   "cell_type": "markdown",
   "id": "5f513bbf",
   "metadata": {},
   "source": [
    "__init__ is an instance method that initializes a newly created object. It takes the object as its first argument followed by additional arguments. The method takes the object as its first argument (self), followed by any additional arguments that need to be passed to it."
   ]
  },
  {
   "cell_type": "code",
   "execution_count": 5,
   "id": "9647b172",
   "metadata": {},
   "outputs": [],
   "source": [
    "class test():\n",
    "    \n",
    "    def __init__(self, phone_no, email_id, student_id):\n",
    "        self.phone_no = phone_no\n",
    "        self.email_id = email_id\n",
    "        self.student_id = student_id\n",
    "        \n",
    "    def student_detail(self):\n",
    "        return self.phone_no, self.email_id, self.student_id"
   ]
  },
  {
   "cell_type": "code",
   "execution_count": 7,
   "id": "6efa78cb",
   "metadata": {},
   "outputs": [],
   "source": [
    "student = test(985201364, \"rahul@abc.com\", 101)"
   ]
  },
  {
   "cell_type": "code",
   "execution_count": 8,
   "id": "7ed683d7",
   "metadata": {},
   "outputs": [
    {
     "data": {
      "text/plain": [
       "985201364"
      ]
     },
     "execution_count": 8,
     "metadata": {},
     "output_type": "execute_result"
    }
   ],
   "source": [
    "student.phone_no"
   ]
  },
  {
   "cell_type": "code",
   "execution_count": 9,
   "id": "9e37354c",
   "metadata": {},
   "outputs": [
    {
     "data": {
      "text/plain": [
       "'rahul@abc.com'"
      ]
     },
     "execution_count": 9,
     "metadata": {},
     "output_type": "execute_result"
    }
   ],
   "source": [
    "student.email_id"
   ]
  },
  {
   "cell_type": "code",
   "execution_count": 10,
   "id": "74cb2147",
   "metadata": {},
   "outputs": [
    {
     "data": {
      "text/plain": [
       "101"
      ]
     },
     "execution_count": 10,
     "metadata": {},
     "output_type": "execute_result"
    }
   ],
   "source": [
    "student.student_id"
   ]
  },
  {
   "cell_type": "markdown",
   "id": "c2c39720",
   "metadata": {},
   "source": [
    "#### Q4. Why self is used in OOPs?"
   ]
  },
  {
   "cell_type": "markdown",
   "id": "c8e38f8c",
   "metadata": {},
   "source": [
    "The “self” keyword represents the instance of the class. By using the “self” keyword, we can access the attributes and methods of the class."
   ]
  },
  {
   "cell_type": "markdown",
   "id": "747579ab",
   "metadata": {},
   "source": [
    "#### Q5. What is inheritance? Give an example for each type of inheritance."
   ]
  },
  {
   "cell_type": "markdown",
   "id": "431bec4e",
   "metadata": {},
   "source": [
    "Inheritance allows us to define a class that inherits methods and properties from another class.  \n",
    "Parent/Base class : class being inherited from  \n",
    "Child/Derived class : class that inherits from another class  \n",
    "There are two types of Inheritances : Multi-level and Multiple"
   ]
  },
  {
   "cell_type": "markdown",
   "id": "71c349a6",
   "metadata": {},
   "source": [
    "##### Multi-level Inheritance"
   ]
  },
  {
   "cell_type": "code",
   "execution_count": 11,
   "id": "a8713f47",
   "metadata": {},
   "outputs": [],
   "source": [
    "class grandpa:\n",
    "    def class_grandpa(self):\n",
    "        print(\"I am the grandfather\")\n",
    "        \n",
    "class father(grandpa):\n",
    "    def class_father(self):\n",
    "        print(\"I am the father\")\n",
    "        \n",
    "class son(father):\n",
    "    def class_son(self):\n",
    "        print(\"I am the son\")"
   ]
  },
  {
   "cell_type": "code",
   "execution_count": 13,
   "id": "7d29203d",
   "metadata": {},
   "outputs": [],
   "source": [
    "son = son()"
   ]
  },
  {
   "cell_type": "code",
   "execution_count": 15,
   "id": "97a63f1d",
   "metadata": {},
   "outputs": [
    {
     "name": "stdout",
     "output_type": "stream",
     "text": [
      "I am the son\n"
     ]
    }
   ],
   "source": [
    "son.class_son()"
   ]
  },
  {
   "cell_type": "code",
   "execution_count": 16,
   "id": "94bd6871",
   "metadata": {},
   "outputs": [
    {
     "name": "stdout",
     "output_type": "stream",
     "text": [
      "I am the father\n"
     ]
    }
   ],
   "source": [
    "son.class_father()"
   ]
  },
  {
   "cell_type": "code",
   "execution_count": 17,
   "id": "59712bf1",
   "metadata": {},
   "outputs": [
    {
     "name": "stdout",
     "output_type": "stream",
     "text": [
      "I am the grandfather\n"
     ]
    }
   ],
   "source": [
    "son.class_grandpa()"
   ]
  },
  {
   "cell_type": "markdown",
   "id": "0140507f",
   "metadata": {},
   "source": [
    "##### Mutltiple Inheritance"
   ]
  },
  {
   "cell_type": "code",
   "execution_count": 19,
   "id": "9feaf9a4",
   "metadata": {},
   "outputs": [],
   "source": [
    "class mother:\n",
    "    def class_mother(self):\n",
    "        print(\"I am the mother\")\n",
    "        \n",
    "class father:\n",
    "    def class_father(self):\n",
    "        print(\"I am the father\")\n",
    "        \n",
    "class daughter(mother, father):\n",
    "    def class_daughter(self):\n",
    "        pass"
   ]
  },
  {
   "cell_type": "code",
   "execution_count": 20,
   "id": "d47cac3b",
   "metadata": {},
   "outputs": [],
   "source": [
    "daughter = daughter()"
   ]
  },
  {
   "cell_type": "code",
   "execution_count": 21,
   "id": "7041e724",
   "metadata": {},
   "outputs": [
    {
     "name": "stdout",
     "output_type": "stream",
     "text": [
      "I am the father\n"
     ]
    }
   ],
   "source": [
    "daughter.class_father()"
   ]
  },
  {
   "cell_type": "code",
   "execution_count": 22,
   "id": "c246a41c",
   "metadata": {},
   "outputs": [
    {
     "name": "stdout",
     "output_type": "stream",
     "text": [
      "I am the mother\n"
     ]
    }
   ],
   "source": [
    "daughter.class_mother()"
   ]
  },
  {
   "cell_type": "code",
   "execution_count": null,
   "id": "77398930",
   "metadata": {},
   "outputs": [],
   "source": []
  }
 ],
 "metadata": {
  "kernelspec": {
   "display_name": "Python 3 (ipykernel)",
   "language": "python",
   "name": "python3"
  },
  "language_info": {
   "codemirror_mode": {
    "name": "ipython",
    "version": 3
   },
   "file_extension": ".py",
   "mimetype": "text/x-python",
   "name": "python",
   "nbconvert_exporter": "python",
   "pygments_lexer": "ipython3",
   "version": "3.11.5"
  }
 },
 "nbformat": 4,
 "nbformat_minor": 5
}
